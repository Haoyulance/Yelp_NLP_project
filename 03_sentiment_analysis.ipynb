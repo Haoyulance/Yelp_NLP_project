{
 "cells": [
  {
   "cell_type": "code",
   "execution_count": 1,
   "metadata": {},
   "outputs": [],
   "source": [
    "import pandas as pd\n",
    "import os \n",
    "import numpy as np\n",
    "import matplotlib.pyplot as plt\n",
    "% matplotlib inline\n",
    "plt.style.use(\"ggplot\")\n",
    "os.getcwd()\n",
    "os.chdir('/Users/caden/Desktop/yelp_project/data')"
   ]
  },
  {
   "cell_type": "markdown",
   "metadata": {},
   "source": [
    "# 1. Load data"
   ]
  },
  {
   "cell_type": "code",
   "execution_count": 14,
   "metadata": {},
   "outputs": [],
   "source": [
    "df = pd.read_csv('last_2_year_restaurant_reviews_Las_Vegas.csv')\n",
    "documents = df['text'].copy()\n",
    "target = df['stars'].apply(lambda x: 'perfect' if x == 5 else 'imperfect')\n",
    "from sklearn.model_selection import train_test_split\n",
    "documents_train, documents_test, target_train, target_test = train_test_split(documents, target, test_size = 0.2, random_state = 0)\n",
    "documents_train = documents_train.reset_index(drop = True)\n",
    "documents_test = documents_test.reset_index(drop = True)\n",
    "target_train = target_train.reset_index(drop = True)\n",
    "target_test = target_test.reset_index(drop = True)"
   ]
  },
  {
   "cell_type": "markdown",
   "metadata": {},
   "source": [
    "# 2. NLP process"
   ]
  },
  {
   "cell_type": "code",
   "execution_count": 36,
   "metadata": {},
   "outputs": [],
   "source": [
    "from sklearn.feature_extraction.text import TfidfVectorizer\n",
    "from nltk.corpus import stopwords\n",
    "vectorizer = TfidfVectorizer(stop_words = stopwords.words('english'))\n",
    "train_vector = vectorizer.fit_transform(documents_train)\n",
    "test_vector = vectorizer.transform(documents_test)\n"
   ]
  },
  {
   "cell_type": "markdown",
   "metadata": {},
   "source": [
    "# 3. Similar review search engine"
   ]
  },
  {
   "cell_type": "code",
   "execution_count": 37,
   "metadata": {},
   "outputs": [],
   "source": [
    "# find the n closest vectors\n",
    "def get_top_values(lst, n, labels):\n",
    "    # print(np.argsort(lst)[::-1][:n])\n",
    "    return [[labels[i]] for i in np.argsort(lst)[::-1][:n]]\n",
    "# find the n furthest vectors\n",
    "def get_bottom_values(lst, n, labels):\n",
    "    return [[labels[i]] for i in np.argsort(lst)[::][n-1::-1]]\n"
   ]
  },
  {
   "cell_type": "code",
   "execution_count": 41,
   "metadata": {},
   "outputs": [],
   "source": [
    "from sklearn.metrics.pairwise import cosine_similarity\n",
    "import random\n",
    "ar = documents_test.iloc[random.sample(range(len(documents_test)),1)].values\n",
    "arbitrary_vector = vectorizer.transform(ar)\n",
    "similarity = cosine_similarity(arbitrary_vector, train_vector)\n",
    "similar_review = get_top_values(similarity[0], 5, documents_train)"
   ]
  },
  {
   "cell_type": "code",
   "execution_count": 42,
   "metadata": {
    "scrolled": true
   },
   "outputs": [
    {
     "name": "stdout",
     "output_type": "stream",
     "text": [
      "Search query\n",
      "[\"SuperGeeks designed our new and improved website and I can't say enough good things about James and the experience. They made it super easy on our end and did a fantastic job. I would highly recommend this company if you are looking to revamp or create your new website.  A++\\n\\nwww.capital-flight.com\"]\n"
     ]
    }
   ],
   "source": [
    "print('Search query')\n",
    "print(ar)"
   ]
  },
  {
   "cell_type": "code",
   "execution_count": 43,
   "metadata": {},
   "outputs": [
    {
     "name": "stdout",
     "output_type": "stream",
     "text": [
      "The 5 most similar reviews\n",
      "[\"My website was built professional by Mike. It was a great experience to watch my website come about. I'd highly recommend him because he made sure I was happy with the results. It was a great process and he did an excellent job. Even after he completed the website, he would still answer any questions I had afterwards. www.Balphawear.com\"]\n",
      "['Fantastic company. We needed to get more sales for our service company and hired SuperGeeks to do SEO. Two months later we are busier than ever. Great customer support from James and the team. Clear communication. I highly recommend them.']\n",
      "['We recently updated our website and used James at Snelling Web Design. James has a lot of great ideas, answered all of our questions, and was a pleasure to work with. The new website turned out AMAZING and works perfect. We have had many complements about the website and would highly recommend him.']\n",
      "[\"It has been almost 3 years since Bjorn created the website and logo for my business, www.raxmasters.com . All I did was send him the photos and he did the rest. He always has new awesome ideas and anytime I have a question, he is always there to answer. And I have received, and continue to receive, lots of great feedback from people about how awesome the website is. I will continue to work with him and recommend him as well. So, if you are looking to create a website, don't hesitate to give him a call.\"]\n",
      "['I have worked with Karl and his team for over 10 years and have always found them to be friendly, helpful and quick to respond. They designed my first business website and then saved me when the company I was working with on my new website dropped the ball. I highly recommend them.']\n"
     ]
    }
   ],
   "source": [
    "print('The 5 most similar reviews')\n",
    "for i in similar_review:\n",
    "    print(i)"
   ]
  },
  {
   "cell_type": "markdown",
   "metadata": {},
   "source": [
    "# 4. Build classifier for positive/negative review"
   ]
  },
  {
   "cell_type": "markdown",
   "metadata": {},
   "source": [
    "### Naive-Bayes Classifier"
   ]
  },
  {
   "cell_type": "code",
   "execution_count": 44,
   "metadata": {},
   "outputs": [
    {
     "data": {
      "text/plain": [
       "0.8452500643503474"
      ]
     },
     "execution_count": 44,
     "metadata": {},
     "output_type": "execute_result"
    }
   ],
   "source": [
    "from sklearn.naive_bayes import MultinomialNB\n",
    "model = MultinomialNB()\n",
    "model.fit(train_vector, target_train)\n",
    "model.score(train_vector, target_train)"
   ]
  },
  {
   "cell_type": "code",
   "execution_count": 45,
   "metadata": {},
   "outputs": [
    {
     "data": {
      "text/plain": [
       "0.8367594776303284"
      ]
     },
     "execution_count": 45,
     "metadata": {},
     "output_type": "execute_result"
    }
   ],
   "source": [
    "model.score(test_vector, target_test)"
   ]
  },
  {
   "cell_type": "markdown",
   "metadata": {},
   "source": [
    "### Logistic Regression Classifier"
   ]
  },
  {
   "cell_type": "code",
   "execution_count": 46,
   "metadata": {},
   "outputs": [
    {
     "data": {
      "text/plain": [
       "0.8707944022897723"
      ]
     },
     "execution_count": 46,
     "metadata": {},
     "output_type": "execute_result"
    }
   ],
   "source": [
    "from sklearn.linear_model import LogisticRegression\n",
    "model = LogisticRegression()\n",
    "model.fit(train_vector, target_train)\n",
    "model.score(train_vector, target_train)"
   ]
  },
  {
   "cell_type": "code",
   "execution_count": 47,
   "metadata": {},
   "outputs": [
    {
     "data": {
      "text/plain": [
       "0.860743954380654"
      ]
     },
     "execution_count": 47,
     "metadata": {},
     "output_type": "execute_result"
    }
   ],
   "source": [
    "model.score(test_vector, target_test)"
   ]
  },
  {
   "cell_type": "markdown",
   "metadata": {},
   "source": [
    "#### Key features that make the positive prediction"
   ]
  },
  {
   "cell_type": "code",
   "execution_count": 48,
   "metadata": {},
   "outputs": [
    {
     "data": {
      "text/plain": [
       "[['amazing'],\n",
       " ['best'],\n",
       " ['thank'],\n",
       " ['highly'],\n",
       " ['awesome'],\n",
       " ['incredible'],\n",
       " ['professional'],\n",
       " ['happier'],\n",
       " ['phenomenal'],\n",
       " ['beyond'],\n",
       " ['fantastic'],\n",
       " ['exceeded'],\n",
       " ['grateful'],\n",
       " ['excellent'],\n",
       " ['heaven'],\n",
       " ['perfect'],\n",
       " ['love'],\n",
       " ['thanks'],\n",
       " ['great'],\n",
       " ['outstanding']]"
      ]
     },
     "execution_count": 48,
     "metadata": {},
     "output_type": "execute_result"
    }
   ],
   "source": [
    "words = vectorizer.get_feature_names()\n",
    "get_top_values(model.coef_[0], 20, words)"
   ]
  },
  {
   "cell_type": "markdown",
   "metadata": {},
   "source": [
    "#### Key features that make the negative prediction"
   ]
  },
  {
   "cell_type": "code",
   "execution_count": 49,
   "metadata": {},
   "outputs": [
    {
     "data": {
      "text/plain": [
       "[['unacceptable'],\n",
       " ['reason'],\n",
       " ['slow'],\n",
       " ['meh'],\n",
       " ['lacking'],\n",
       " ['okay'],\n",
       " ['disgusting'],\n",
       " ['awful'],\n",
       " ['lacked'],\n",
       " ['worse'],\n",
       " ['bland'],\n",
       " ['mediocre'],\n",
       " ['poor'],\n",
       " ['ok'],\n",
       " ['terrible'],\n",
       " ['disappointing'],\n",
       " ['rude'],\n",
       " ['unprofessional'],\n",
       " ['horrible'],\n",
       " ['worst']]"
      ]
     },
     "execution_count": 49,
     "metadata": {},
     "output_type": "execute_result"
    }
   ],
   "source": [
    "get_bottom_values(model.coef_[0], 20, words)"
   ]
  },
  {
   "cell_type": "code",
   "execution_count": null,
   "metadata": {},
   "outputs": [],
   "source": []
  }
 ],
 "metadata": {
  "kernelspec": {
   "display_name": "Python 3",
   "language": "python",
   "name": "python3"
  },
  "language_info": {
   "codemirror_mode": {
    "name": "ipython",
    "version": 3
   },
   "file_extension": ".py",
   "mimetype": "text/x-python",
   "name": "python",
   "nbconvert_exporter": "python",
   "pygments_lexer": "ipython3",
   "version": "3.6.5"
  }
 },
 "nbformat": 4,
 "nbformat_minor": 2
}
