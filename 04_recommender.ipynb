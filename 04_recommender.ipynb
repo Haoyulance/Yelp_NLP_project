{
 "cells": [
  {
   "cell_type": "code",
   "execution_count": 1,
   "metadata": {},
   "outputs": [],
   "source": [
    "import pandas as pd\n",
    "import os \n",
    "import numpy as np\n",
    "import matplotlib.pyplot as plt\n",
    "% matplotlib inline\n",
    "plt.style.use(\"ggplot\")\n",
    "os.getcwd()\n",
    "os.chdir('/Users/caden/Desktop/yelp_project/data')"
   ]
  },
  {
   "cell_type": "code",
   "execution_count": 2,
   "metadata": {},
   "outputs": [],
   "source": [
    "df = pd.read_csv('last_2_year_restaurant_reviews_Las_Vegas.csv')"
   ]
  },
  {
   "cell_type": "markdown",
   "metadata": {},
   "source": [
    "# 1. Clean data and get rating data"
   ]
  },
  {
   "cell_type": "code",
   "execution_count": 3,
   "metadata": {},
   "outputs": [],
   "source": [
    "data = df[['business_id', 'user_id', 'stars']].copy()\n",
    "# exclude the users that haven't give much ratings\n",
    "clean_user = data['user_id'].value_counts().index\n",
    "mask_ = data['user_id'].value_counts()>20\n",
    "clean_user = clean_user[mask_].values\n",
    "used_data = data[data['user_id'].apply(lambda x: x in clean_user)]"
   ]
  },
  {
   "cell_type": "markdown",
   "metadata": {},
   "source": [
    "### Define the reference tables from string to the categorical number"
   ]
  },
  {
   "cell_type": "code",
   "execution_count": 4,
   "metadata": {},
   "outputs": [],
   "source": [
    "user_cat = used_data.user_id.copy().astype('category').cat.codes\n",
    "user = used_data[['user_id']].copy()\n",
    "user['cat'] = user_cat\n",
    "user = user.drop_duplicates(subset = ['cat']).set_index('cat')\n",
    "\n",
    "business_cat = used_data.business_id.copy().astype('category').cat.codes\n",
    "business = used_data[['business_id']].copy()\n",
    "business['cat'] = business_cat\n",
    "business = business.drop_duplicates(subset = ['cat']).set_index('cat')\n"
   ]
  },
  {
   "cell_type": "code",
   "execution_count": 14,
   "metadata": {},
   "outputs": [],
   "source": [
    "used_data = used_data.copy().astype('category').apply(lambda x: x.cat.codes)"
   ]
  },
  {
   "cell_type": "markdown",
   "metadata": {},
   "source": [
    "# 2. Create utility matrix "
   ]
  },
  {
   "cell_type": "code",
   "execution_count": 16,
   "metadata": {},
   "outputs": [],
   "source": [
    "from scipy import sparse\n",
    "user_scaling = len(used_data.user_id.value_counts())\n",
    "business_scaling = len(used_data.business_id.value_counts())\n",
    "rate_matrix = sparse.lil_matrix((user_scaling, business_scaling))\n",
    "for _, row in used_data.iterrows():\n",
    "    rate_matrix[row.user_id, row.business_id] = row.stars"
   ]
  },
  {
   "cell_type": "code",
   "execution_count": 17,
   "metadata": {},
   "outputs": [
    {
     "data": {
      "text/plain": [
       "<4790x18011 sparse matrix of type '<class 'numpy.float64'>'\n",
       "\twith 186564 stored elements in LInked List format>"
      ]
     },
     "execution_count": 17,
     "metadata": {},
     "output_type": "execute_result"
    }
   ],
   "source": [
    "rate_matrix"
   ]
  },
  {
   "cell_type": "markdown",
   "metadata": {},
   "source": [
    "# 3. Item-Item similarity recommender"
   ]
  },
  {
   "cell_type": "code",
   "execution_count": 43,
   "metadata": {},
   "outputs": [],
   "source": [
    "from sklearn.metrics.pairwise import cosine_similarity\n",
    "item_sim_mat = cosine_similarity(rate_matrix.T)\n",
    "similarity_index = np.argsort(item_sim_mat, axis =1)\n",
    "# choose the 75 most similarity for each business_id\n",
    "neighborhood = similarity_index[:, -75:]"
   ]
  },
  {
   "cell_type": "markdown",
   "metadata": {},
   "source": [
    "### Make prediction for the user unrated items"
   ]
  },
  {
   "cell_type": "code",
   "execution_count": 104,
   "metadata": {},
   "outputs": [],
   "source": [
    "import numpy as np\n",
    "np.seterr(divide='ignore', invalid='ignore')\n",
    "def recommend(user_id, rate_matrix, n):\n",
    "    n_users = rate_matrix.shape[0]\n",
    "    n_items = rate_matrix.shape[1]\n",
    "    rated_by_this_user = rate_matrix[user_id].nonzero()[1]\n",
    "    out = np.zeros(n_items)\n",
    "    for to_rate in range(n_items):\n",
    "        # find the intersection items that both in the rated(by this user)list and most similar list\n",
    "        #if to_rate not in rated_by_this_user:\n",
    "        relevant_items = np.intersect1d(neighborhood[to_rate],\n",
    "                                       rated_by_this_user,\n",
    "                                       assume_unique = True)\n",
    "        out[to_rate] = rate_matrix[user_id, relevant_items]*item_sim_mat[to_rate, relevant_items]/item_sim_mat[to_rate, relevant_items].sum()\n",
    "    pre_ratings = np.nan_to_num(out)\n",
    "    item_sort = list(np.argsort(pred))[::-1]\n",
    "    unrated_items = [item for item in item_sort if item not in rated_by_this_user]\n",
    "    return business.loc[unrated_items[:n]]"
   ]
  },
  {
   "cell_type": "code",
   "execution_count": 110,
   "metadata": {
    "scrolled": true
   },
   "outputs": [
    {
     "data": {
      "text/html": [
       "<div>\n",
       "<style scoped>\n",
       "    .dataframe tbody tr th:only-of-type {\n",
       "        vertical-align: middle;\n",
       "    }\n",
       "\n",
       "    .dataframe tbody tr th {\n",
       "        vertical-align: top;\n",
       "    }\n",
       "\n",
       "    .dataframe thead th {\n",
       "        text-align: right;\n",
       "    }\n",
       "</style>\n",
       "<table border=\"1\" class=\"dataframe\">\n",
       "  <thead>\n",
       "    <tr style=\"text-align: right;\">\n",
       "      <th></th>\n",
       "      <th>business_id</th>\n",
       "    </tr>\n",
       "    <tr>\n",
       "      <th>cat</th>\n",
       "      <th></th>\n",
       "    </tr>\n",
       "  </thead>\n",
       "  <tbody>\n",
       "    <tr>\n",
       "      <th>9005</th>\n",
       "      <td>V18iSIgNurCBmowYm34byw</td>\n",
       "    </tr>\n",
       "    <tr>\n",
       "      <th>5926</th>\n",
       "      <td>KEDm72wwss4YFXHhHdsHdQ</td>\n",
       "    </tr>\n",
       "    <tr>\n",
       "      <th>14838</th>\n",
       "      <td>omaLPw0gmu8FacEY4EL1XA</td>\n",
       "    </tr>\n",
       "    <tr>\n",
       "      <th>14837</th>\n",
       "      <td>omMiNDhPYAX4TPfv4xrBLQ</td>\n",
       "    </tr>\n",
       "    <tr>\n",
       "      <th>6077</th>\n",
       "      <td>Knm1LOVKvw6YC0wR1-J92A</td>\n",
       "    </tr>\n",
       "    <tr>\n",
       "      <th>6079</th>\n",
       "      <td>KnsAsott2VaBu9sGyTS9kg</td>\n",
       "    </tr>\n",
       "    <tr>\n",
       "      <th>6089</th>\n",
       "      <td>Kq2P3SX1pe0RPYM44fd2ZQ</td>\n",
       "    </tr>\n",
       "    <tr>\n",
       "      <th>6094</th>\n",
       "      <td>KqxoM5zKgqlgoTjHrBVYHw</td>\n",
       "    </tr>\n",
       "    <tr>\n",
       "      <th>6105</th>\n",
       "      <td>Kts2VexuwNq07a-gdpGExQ</td>\n",
       "    </tr>\n",
       "    <tr>\n",
       "      <th>14817</th>\n",
       "      <td>oiHwpkJXt0NW3S2UTa0Fdg</td>\n",
       "    </tr>\n",
       "    <tr>\n",
       "      <th>14816</th>\n",
       "      <td>oiAlXZPIFm2nBCt0DHLu_Q</td>\n",
       "    </tr>\n",
       "    <tr>\n",
       "      <th>6110</th>\n",
       "      <td>KuIeWfzmxwP9nrJTTO_91A</td>\n",
       "    </tr>\n",
       "    <tr>\n",
       "      <th>6115</th>\n",
       "      <td>KvijMDHodfhUrJ29w43l_Q</td>\n",
       "    </tr>\n",
       "    <tr>\n",
       "      <th>6117</th>\n",
       "      <td>KvlUpU-CoGwndwJYEcMZVw</td>\n",
       "    </tr>\n",
       "    <tr>\n",
       "      <th>14805</th>\n",
       "      <td>ofvhOSln2dTDwewdMiOg5Q</td>\n",
       "    </tr>\n",
       "    <tr>\n",
       "      <th>14803</th>\n",
       "      <td>oecb2RmtclNABOZ1AIt-kg</td>\n",
       "    </tr>\n",
       "    <tr>\n",
       "      <th>6142</th>\n",
       "      <td>L0UqzDgzAtCnWOi3p5TYMw</td>\n",
       "    </tr>\n",
       "    <tr>\n",
       "      <th>6151</th>\n",
       "      <td>L3dAvYkqMsLhyPLoeJgwsQ</td>\n",
       "    </tr>\n",
       "    <tr>\n",
       "      <th>6157</th>\n",
       "      <td>L5EFSYUm4A6kObV3t81PlA</td>\n",
       "    </tr>\n",
       "    <tr>\n",
       "      <th>6176</th>\n",
       "      <td>L8VUDJOdhOm4yyWMzlD5iA</td>\n",
       "    </tr>\n",
       "  </tbody>\n",
       "</table>\n",
       "</div>"
      ],
      "text/plain": [
       "                  business_id\n",
       "cat                          \n",
       "9005   V18iSIgNurCBmowYm34byw\n",
       "5926   KEDm72wwss4YFXHhHdsHdQ\n",
       "14838  omaLPw0gmu8FacEY4EL1XA\n",
       "14837  omMiNDhPYAX4TPfv4xrBLQ\n",
       "6077   Knm1LOVKvw6YC0wR1-J92A\n",
       "6079   KnsAsott2VaBu9sGyTS9kg\n",
       "6089   Kq2P3SX1pe0RPYM44fd2ZQ\n",
       "6094   KqxoM5zKgqlgoTjHrBVYHw\n",
       "6105   Kts2VexuwNq07a-gdpGExQ\n",
       "14817  oiHwpkJXt0NW3S2UTa0Fdg\n",
       "14816  oiAlXZPIFm2nBCt0DHLu_Q\n",
       "6110   KuIeWfzmxwP9nrJTTO_91A\n",
       "6115   KvijMDHodfhUrJ29w43l_Q\n",
       "6117   KvlUpU-CoGwndwJYEcMZVw\n",
       "14805  ofvhOSln2dTDwewdMiOg5Q\n",
       "14803  oecb2RmtclNABOZ1AIt-kg\n",
       "6142   L0UqzDgzAtCnWOi3p5TYMw\n",
       "6151   L3dAvYkqMsLhyPLoeJgwsQ\n",
       "6157   L5EFSYUm4A6kObV3t81PlA\n",
       "6176   L8VUDJOdhOm4yyWMzlD5iA"
      ]
     },
     "execution_count": 110,
     "metadata": {},
     "output_type": "execute_result"
    }
   ],
   "source": [
    "# the prediction of rates for user:105\n",
    "recommend(105, rate_matrix, 20)"
   ]
  },
  {
   "cell_type": "markdown",
   "metadata": {},
   "source": [
    "# 4. Matrix Factorization recommender"
   ]
  },
  {
   "cell_type": "markdown",
   "metadata": {},
   "source": [
    "### Build NMF recommender"
   ]
  },
  {
   "cell_type": "code",
   "execution_count": 105,
   "metadata": {},
   "outputs": [],
   "source": [
    "from sklearn.decomposition import NMF\n",
    "def fit_nmf(M, K):\n",
    "    nmf = NMF(n_components = K)\n",
    "    nmf.fit(M)\n",
    "    W = nmf.transform(M)\n",
    "    H = nmf.components_\n",
    "    err = nmf.reconstruction_err_\n",
    "    return W, H, err\n",
    "\n",
    "def MF(fit_nmf, user_id, rate_matrix, n):\n",
    "    W, H, err = fit_nmf(rate_matrix, 100)\n",
    "    fitted_matrix = W.dot(H)\n",
    "    pred_ratings = fitted_matrix[user_id, :]\n",
    "    sorted_list = list(np.argsort(pred_ratings))[::-1]\n",
    "    rated_by_this_user = rate_matrix[user_id].nonzero()[1]\n",
    "    unrated_items = [item for item in sorted_list if item not in rated_by_this_user]\n",
    "    return business.loc[unrated_items[:n]]\n"
   ]
  },
  {
   "cell_type": "code",
   "execution_count": 108,
   "metadata": {
    "scrolled": true
   },
   "outputs": [
    {
     "data": {
      "text/html": [
       "<div>\n",
       "<style scoped>\n",
       "    .dataframe tbody tr th:only-of-type {\n",
       "        vertical-align: middle;\n",
       "    }\n",
       "\n",
       "    .dataframe tbody tr th {\n",
       "        vertical-align: top;\n",
       "    }\n",
       "\n",
       "    .dataframe thead th {\n",
       "        text-align: right;\n",
       "    }\n",
       "</style>\n",
       "<table border=\"1\" class=\"dataframe\">\n",
       "  <thead>\n",
       "    <tr style=\"text-align: right;\">\n",
       "      <th></th>\n",
       "      <th>business_id</th>\n",
       "    </tr>\n",
       "    <tr>\n",
       "      <th>cat</th>\n",
       "      <th></th>\n",
       "    </tr>\n",
       "  </thead>\n",
       "  <tbody>\n",
       "    <tr>\n",
       "      <th>15127</th>\n",
       "      <td>po0p6NIro0cDrmKkcyPy0w</td>\n",
       "    </tr>\n",
       "    <tr>\n",
       "      <th>13281</th>\n",
       "      <td>jBh399TajGcH28Zo2J1pHw</td>\n",
       "    </tr>\n",
       "    <tr>\n",
       "      <th>4518</th>\n",
       "      <td>FFVAGNz3fQ7Mdsupm5uzMw</td>\n",
       "    </tr>\n",
       "    <tr>\n",
       "      <th>13564</th>\n",
       "      <td>kABF0hYfAEnl166mn1zR1A</td>\n",
       "    </tr>\n",
       "    <tr>\n",
       "      <th>1934</th>\n",
       "      <td>5xdKUuu4DbJ71KGbwRXfFg</td>\n",
       "    </tr>\n",
       "    <tr>\n",
       "      <th>40</th>\n",
       "      <td>-95mbLJsa0CxXhpaNL4LvA</td>\n",
       "    </tr>\n",
       "    <tr>\n",
       "      <th>8086</th>\n",
       "      <td>RixnVQV24bc3p92mSntaVA</td>\n",
       "    </tr>\n",
       "    <tr>\n",
       "      <th>13216</th>\n",
       "      <td>ixAh9crILnJ9tM8LhWFhkw</td>\n",
       "    </tr>\n",
       "    <tr>\n",
       "      <th>4552</th>\n",
       "      <td>FMnH5WIRLyexBYMBUUnDxQ</td>\n",
       "    </tr>\n",
       "    <tr>\n",
       "      <th>2451</th>\n",
       "      <td>7sPNbCx7vGAaH7SbNPZ6oA</td>\n",
       "    </tr>\n",
       "    <tr>\n",
       "      <th>733</th>\n",
       "      <td>1bdwB6hxMUnSKF8bCsmuZA</td>\n",
       "    </tr>\n",
       "    <tr>\n",
       "      <th>10740</th>\n",
       "      <td>a0v7Si0DK4cIko7AQY4YXg</td>\n",
       "    </tr>\n",
       "    <tr>\n",
       "      <th>3419</th>\n",
       "      <td>BEtgRzNeXGAf0uQ-HuSyfA</td>\n",
       "    </tr>\n",
       "    <tr>\n",
       "      <th>12292</th>\n",
       "      <td>fhoFsFK6TqJOEo30LtXeDA</td>\n",
       "    </tr>\n",
       "    <tr>\n",
       "      <th>12041</th>\n",
       "      <td>eiTWTVThkHr-DKXxIysbgA</td>\n",
       "    </tr>\n",
       "    <tr>\n",
       "      <th>8442</th>\n",
       "      <td>SzzrUeJGnl_LQAJXMK8wQw</td>\n",
       "    </tr>\n",
       "    <tr>\n",
       "      <th>6144</th>\n",
       "      <td>L1-1P3acJc4gEFvWwjXcNQ</td>\n",
       "    </tr>\n",
       "    <tr>\n",
       "      <th>4183</th>\n",
       "      <td>E0OKctOhZpUQgwUUBc_RwA</td>\n",
       "    </tr>\n",
       "    <tr>\n",
       "      <th>12737</th>\n",
       "      <td>hDyc9DdjGldhxis5E1rd3w</td>\n",
       "    </tr>\n",
       "    <tr>\n",
       "      <th>1107</th>\n",
       "      <td>33Tr0eRki1Yamzleu4GMdw</td>\n",
       "    </tr>\n",
       "  </tbody>\n",
       "</table>\n",
       "</div>"
      ],
      "text/plain": [
       "                  business_id\n",
       "cat                          \n",
       "15127  po0p6NIro0cDrmKkcyPy0w\n",
       "13281  jBh399TajGcH28Zo2J1pHw\n",
       "4518   FFVAGNz3fQ7Mdsupm5uzMw\n",
       "13564  kABF0hYfAEnl166mn1zR1A\n",
       "1934   5xdKUuu4DbJ71KGbwRXfFg\n",
       "40     -95mbLJsa0CxXhpaNL4LvA\n",
       "8086   RixnVQV24bc3p92mSntaVA\n",
       "13216  ixAh9crILnJ9tM8LhWFhkw\n",
       "4552   FMnH5WIRLyexBYMBUUnDxQ\n",
       "2451   7sPNbCx7vGAaH7SbNPZ6oA\n",
       "733    1bdwB6hxMUnSKF8bCsmuZA\n",
       "10740  a0v7Si0DK4cIko7AQY4YXg\n",
       "3419   BEtgRzNeXGAf0uQ-HuSyfA\n",
       "12292  fhoFsFK6TqJOEo30LtXeDA\n",
       "12041  eiTWTVThkHr-DKXxIysbgA\n",
       "8442   SzzrUeJGnl_LQAJXMK8wQw\n",
       "6144   L1-1P3acJc4gEFvWwjXcNQ\n",
       "4183   E0OKctOhZpUQgwUUBc_RwA\n",
       "12737  hDyc9DdjGldhxis5E1rd3w\n",
       "1107   33Tr0eRki1Yamzleu4GMdw"
      ]
     },
     "execution_count": 108,
     "metadata": {},
     "output_type": "execute_result"
    }
   ],
   "source": [
    "MF(fit_nmf, 105, rate_matrix, 20)"
   ]
  },
  {
   "cell_type": "markdown",
   "metadata": {},
   "source": [
    "### Build UVD recommender"
   ]
  },
  {
   "cell_type": "code",
   "execution_count": 109,
   "metadata": {
    "scrolled": true
   },
   "outputs": [
    {
     "data": {
      "text/html": [
       "<div>\n",
       "<style scoped>\n",
       "    .dataframe tbody tr th:only-of-type {\n",
       "        vertical-align: middle;\n",
       "    }\n",
       "\n",
       "    .dataframe tbody tr th {\n",
       "        vertical-align: top;\n",
       "    }\n",
       "\n",
       "    .dataframe thead th {\n",
       "        text-align: right;\n",
       "    }\n",
       "</style>\n",
       "<table border=\"1\" class=\"dataframe\">\n",
       "  <thead>\n",
       "    <tr style=\"text-align: right;\">\n",
       "      <th></th>\n",
       "      <th>business_id</th>\n",
       "    </tr>\n",
       "    <tr>\n",
       "      <th>cat</th>\n",
       "      <th></th>\n",
       "    </tr>\n",
       "  </thead>\n",
       "  <tbody>\n",
       "    <tr>\n",
       "      <th>15862</th>\n",
       "      <td>sNVGdeOPeitJ3OWUQBINzQ</td>\n",
       "    </tr>\n",
       "    <tr>\n",
       "      <th>15127</th>\n",
       "      <td>po0p6NIro0cDrmKkcyPy0w</td>\n",
       "    </tr>\n",
       "    <tr>\n",
       "      <th>40</th>\n",
       "      <td>-95mbLJsa0CxXhpaNL4LvA</td>\n",
       "    </tr>\n",
       "    <tr>\n",
       "      <th>6530</th>\n",
       "      <td>MQD3EvzB7C8zol6kBxBrSg</td>\n",
       "    </tr>\n",
       "    <tr>\n",
       "      <th>9434</th>\n",
       "      <td>WRQ-9LluyivReFiQZFUujw</td>\n",
       "    </tr>\n",
       "    <tr>\n",
       "      <th>5618</th>\n",
       "      <td>JAmQCmczUclNUfZjkNdjQA</td>\n",
       "    </tr>\n",
       "    <tr>\n",
       "      <th>1934</th>\n",
       "      <td>5xdKUuu4DbJ71KGbwRXfFg</td>\n",
       "    </tr>\n",
       "    <tr>\n",
       "      <th>8086</th>\n",
       "      <td>RixnVQV24bc3p92mSntaVA</td>\n",
       "    </tr>\n",
       "    <tr>\n",
       "      <th>12410</th>\n",
       "      <td>g83WbX_recywc4DEIZ-xug</td>\n",
       "    </tr>\n",
       "    <tr>\n",
       "      <th>4518</th>\n",
       "      <td>FFVAGNz3fQ7Mdsupm5uzMw</td>\n",
       "    </tr>\n",
       "    <tr>\n",
       "      <th>12041</th>\n",
       "      <td>eiTWTVThkHr-DKXxIysbgA</td>\n",
       "    </tr>\n",
       "    <tr>\n",
       "      <th>11892</th>\n",
       "      <td>eBj_YyJU5jVu6tbZCkdtDA</td>\n",
       "    </tr>\n",
       "    <tr>\n",
       "      <th>1591</th>\n",
       "      <td>4mb32UmQULqg7IMck28vog</td>\n",
       "    </tr>\n",
       "    <tr>\n",
       "      <th>7487</th>\n",
       "      <td>PkqN5st3zZ_Xce_5QlBtNQ</td>\n",
       "    </tr>\n",
       "    <tr>\n",
       "      <th>3107</th>\n",
       "      <td>A5Rkh7UymKm0_Rxm9K2PJw</td>\n",
       "    </tr>\n",
       "    <tr>\n",
       "      <th>11821</th>\n",
       "      <td>dxeu5YQIzw0jOp1cSVkimg</td>\n",
       "    </tr>\n",
       "    <tr>\n",
       "      <th>3087</th>\n",
       "      <td>A0X1baHPgw9IiBRivu0G9g</td>\n",
       "    </tr>\n",
       "    <tr>\n",
       "      <th>1060</th>\n",
       "      <td>2s2ww6WaulfOEI16s1uyDg</td>\n",
       "    </tr>\n",
       "    <tr>\n",
       "      <th>14799</th>\n",
       "      <td>odyYR1Bg2bqmp1kVlm8OYw</td>\n",
       "    </tr>\n",
       "    <tr>\n",
       "      <th>6104</th>\n",
       "      <td>KskYqH1Bi7Z_61pH6Om8pg</td>\n",
       "    </tr>\n",
       "  </tbody>\n",
       "</table>\n",
       "</div>"
      ],
      "text/plain": [
       "                  business_id\n",
       "cat                          \n",
       "15862  sNVGdeOPeitJ3OWUQBINzQ\n",
       "15127  po0p6NIro0cDrmKkcyPy0w\n",
       "40     -95mbLJsa0CxXhpaNL4LvA\n",
       "6530   MQD3EvzB7C8zol6kBxBrSg\n",
       "9434   WRQ-9LluyivReFiQZFUujw\n",
       "5618   JAmQCmczUclNUfZjkNdjQA\n",
       "1934   5xdKUuu4DbJ71KGbwRXfFg\n",
       "8086   RixnVQV24bc3p92mSntaVA\n",
       "12410  g83WbX_recywc4DEIZ-xug\n",
       "4518   FFVAGNz3fQ7Mdsupm5uzMw\n",
       "12041  eiTWTVThkHr-DKXxIysbgA\n",
       "11892  eBj_YyJU5jVu6tbZCkdtDA\n",
       "1591   4mb32UmQULqg7IMck28vog\n",
       "7487   PkqN5st3zZ_Xce_5QlBtNQ\n",
       "3107   A5Rkh7UymKm0_Rxm9K2PJw\n",
       "11821  dxeu5YQIzw0jOp1cSVkimg\n",
       "3087   A0X1baHPgw9IiBRivu0G9g\n",
       "1060   2s2ww6WaulfOEI16s1uyDg\n",
       "14799  odyYR1Bg2bqmp1kVlm8OYw\n",
       "6104   KskYqH1Bi7Z_61pH6Om8pg"
      ]
     },
     "execution_count": 109,
     "metadata": {},
     "output_type": "execute_result"
    }
   ],
   "source": [
    "from sklearn.decomposition import TruncatedSVD\n",
    "def fit_uvd(M, K):\n",
    "    svd = TruncatedSVD(n_components = K, n_iter = 10, random_state = 0)\n",
    "    svd.fit(M)\n",
    "    V = svd.components_\n",
    "    U = svd.transform(M)\n",
    "    return U, V, svd\n",
    "MF(fit_uvd, 105, rate_matrix, 20)"
   ]
  },
  {
   "cell_type": "code",
   "execution_count": 121,
   "metadata": {},
   "outputs": [
    {
     "name": "stdout",
     "output_type": "stream",
     "text": [
      "The number of the same recommends of NMF and UVD are 8\n"
     ]
    }
   ],
   "source": [
    "k = 0\n",
    "for i in MF(fit_nmf, 256, rate_matrix, 20).index:\n",
    "    if i in MF(fit_uvd, 256, rate_matrix, 20).index:\n",
    "#         if i in recommend(10, rate_matrix, 20):\n",
    "        k += 1\n",
    "print('The number of the same recommends of NMF and UVD are %s' %k)"
   ]
  },
  {
   "cell_type": "code",
   "execution_count": null,
   "metadata": {},
   "outputs": [],
   "source": []
  }
 ],
 "metadata": {
  "kernelspec": {
   "display_name": "Python 3",
   "language": "python",
   "name": "python3"
  },
  "language_info": {
   "codemirror_mode": {
    "name": "ipython",
    "version": 3
   },
   "file_extension": ".py",
   "mimetype": "text/x-python",
   "name": "python",
   "nbconvert_exporter": "python",
   "pygments_lexer": "ipython3",
   "version": "3.6.5"
  }
 },
 "nbformat": 4,
 "nbformat_minor": 2
}
