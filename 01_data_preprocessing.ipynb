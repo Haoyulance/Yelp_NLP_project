{
 "cells": [
  {
   "cell_type": "code",
   "execution_count": 2,
   "metadata": {},
   "outputs": [],
   "source": [
    "import json\n",
    "import pandas as pd\n",
    "import os\n",
    "import numpy as np"
   ]
  },
  {
   "cell_type": "markdown",
   "metadata": {},
   "source": [
    "# 1. Load data"
   ]
  },
  {
   "cell_type": "code",
   "execution_count": 4,
   "metadata": {},
   "outputs": [],
   "source": [
    "os.getcwd()\n",
    "os.chdir('/Users/caden/Desktop/yelp_project/data')\n",
    "file_business, file_checkin, file_review, file_tip, file_user = [\n",
    "    'yelp_academic_dataset_business.json',\n",
    "    'yelp_academic_dataset_checkin.json',\n",
    "    'yelp_academic_dataset_review.json',\n",
    "    'yelp_academic_dataset_tip.json',\n",
    "    'yelp_academic_dataset_user.json'\n",
    "]\n"
   ]
  },
  {
   "cell_type": "code",
   "execution_count": 16,
   "metadata": {},
   "outputs": [
    {
     "data": {
      "text/html": [
       "<div>\n",
       "<style scoped>\n",
       "    .dataframe tbody tr th:only-of-type {\n",
       "        vertical-align: middle;\n",
       "    }\n",
       "\n",
       "    .dataframe tbody tr th {\n",
       "        vertical-align: top;\n",
       "    }\n",
       "\n",
       "    .dataframe thead th {\n",
       "        text-align: right;\n",
       "    }\n",
       "</style>\n",
       "<table border=\"1\" class=\"dataframe\">\n",
       "  <thead>\n",
       "    <tr style=\"text-align: right;\">\n",
       "      <th></th>\n",
       "      <th>address</th>\n",
       "      <th>attributes</th>\n",
       "      <th>business_id</th>\n",
       "      <th>categories</th>\n",
       "      <th>city</th>\n",
       "      <th>hours</th>\n",
       "      <th>is_open</th>\n",
       "      <th>latitude</th>\n",
       "      <th>longitude</th>\n",
       "      <th>name</th>\n",
       "      <th>neighborhood</th>\n",
       "      <th>postal_code</th>\n",
       "      <th>review_count</th>\n",
       "      <th>stars</th>\n",
       "      <th>state</th>\n",
       "    </tr>\n",
       "  </thead>\n",
       "  <tbody>\n",
       "    <tr>\n",
       "      <th>0</th>\n",
       "      <td>1314 44 Avenue NE</td>\n",
       "      <td>{'BikeParking': 'False', 'BusinessAcceptsCredi...</td>\n",
       "      <td>Apn5Q_b6Nz61Tq4XzPdf9A</td>\n",
       "      <td>Tours, Breweries, Pizza, Restaurants, Food, Ho...</td>\n",
       "      <td>Calgary</td>\n",
       "      <td>{'Monday': '8:30-17:0', 'Tuesday': '11:0-21:0'...</td>\n",
       "      <td>1</td>\n",
       "      <td>51.091813</td>\n",
       "      <td>-114.031675</td>\n",
       "      <td>Minhas Micro Brewery</td>\n",
       "      <td></td>\n",
       "      <td>T2E 6L6</td>\n",
       "      <td>24</td>\n",
       "      <td>4.0</td>\n",
       "      <td>AB</td>\n",
       "    </tr>\n",
       "    <tr>\n",
       "      <th>1</th>\n",
       "      <td></td>\n",
       "      <td>{'Alcohol': 'none', 'BikeParking': 'False', 'B...</td>\n",
       "      <td>AjEbIBw6ZFfln7ePHha9PA</td>\n",
       "      <td>Chicken Wings, Burgers, Caterers, Street Vendo...</td>\n",
       "      <td>Henderson</td>\n",
       "      <td>{'Friday': '17:0-23:0', 'Saturday': '17:0-23:0...</td>\n",
       "      <td>0</td>\n",
       "      <td>35.960734</td>\n",
       "      <td>-114.939821</td>\n",
       "      <td>CK'S BBQ &amp; Catering</td>\n",
       "      <td></td>\n",
       "      <td>89002</td>\n",
       "      <td>3</td>\n",
       "      <td>4.5</td>\n",
       "      <td>NV</td>\n",
       "    </tr>\n",
       "  </tbody>\n",
       "</table>\n",
       "</div>"
      ],
      "text/plain": [
       "             address                                         attributes  \\\n",
       "0  1314 44 Avenue NE  {'BikeParking': 'False', 'BusinessAcceptsCredi...   \n",
       "1                     {'Alcohol': 'none', 'BikeParking': 'False', 'B...   \n",
       "\n",
       "              business_id                                         categories  \\\n",
       "0  Apn5Q_b6Nz61Tq4XzPdf9A  Tours, Breweries, Pizza, Restaurants, Food, Ho...   \n",
       "1  AjEbIBw6ZFfln7ePHha9PA  Chicken Wings, Burgers, Caterers, Street Vendo...   \n",
       "\n",
       "        city                                              hours  is_open  \\\n",
       "0    Calgary  {'Monday': '8:30-17:0', 'Tuesday': '11:0-21:0'...        1   \n",
       "1  Henderson  {'Friday': '17:0-23:0', 'Saturday': '17:0-23:0...        0   \n",
       "\n",
       "    latitude   longitude                  name neighborhood postal_code  \\\n",
       "0  51.091813 -114.031675  Minhas Micro Brewery                  T2E 6L6   \n",
       "1  35.960734 -114.939821   CK'S BBQ & Catering                    89002   \n",
       "\n",
       "   review_count  stars state  \n",
       "0            24    4.0    AB  \n",
       "1             3    4.5    NV  "
      ]
     },
     "execution_count": 16,
     "metadata": {},
     "output_type": "execute_result"
    }
   ],
   "source": [
    "with open(file_business) as f:\n",
    "    df_business = pd.DataFrame(json.loads(line) for line in f)\n",
    "df_business.head(2)\n",
    "# np.unique(df_business['city'])"
   ]
  },
  {
   "cell_type": "code",
   "execution_count": 17,
   "metadata": {
    "scrolled": true
   },
   "outputs": [
    {
     "name": "stdout",
     "output_type": "stream",
     "text": [
      "<class 'pandas.core.frame.DataFrame'>\n",
      "RangeIndex: 188593 entries, 0 to 188592\n",
      "Data columns (total 15 columns):\n",
      "address         188593 non-null object\n",
      "attributes      162807 non-null object\n",
      "business_id     188593 non-null object\n",
      "categories      188052 non-null object\n",
      "city            188593 non-null object\n",
      "hours           143791 non-null object\n",
      "is_open         188593 non-null int64\n",
      "latitude        188587 non-null float64\n",
      "longitude       188587 non-null float64\n",
      "name            188593 non-null object\n",
      "neighborhood    188593 non-null object\n",
      "postal_code     188593 non-null object\n",
      "review_count    188593 non-null int64\n",
      "stars           188593 non-null float64\n",
      "state           188593 non-null object\n",
      "dtypes: float64(3), int64(2), object(10)\n",
      "memory usage: 21.6+ MB\n"
     ]
    }
   ],
   "source": [
    "df_business.info()"
   ]
  },
  {
   "cell_type": "code",
   "execution_count": 18,
   "metadata": {},
   "outputs": [
    {
     "data": {
      "text/html": [
       "<div>\n",
       "<style scoped>\n",
       "    .dataframe tbody tr th:only-of-type {\n",
       "        vertical-align: middle;\n",
       "    }\n",
       "\n",
       "    .dataframe tbody tr th {\n",
       "        vertical-align: top;\n",
       "    }\n",
       "\n",
       "    .dataframe thead th {\n",
       "        text-align: right;\n",
       "    }\n",
       "</style>\n",
       "<table border=\"1\" class=\"dataframe\">\n",
       "  <thead>\n",
       "    <tr style=\"text-align: right;\">\n",
       "      <th></th>\n",
       "      <th>business_id</th>\n",
       "      <th>time</th>\n",
       "    </tr>\n",
       "  </thead>\n",
       "  <tbody>\n",
       "    <tr>\n",
       "      <th>0</th>\n",
       "      <td>7KPBkxAOEtb3QeIL9PEErg</td>\n",
       "      <td>{'Fri-0': 2, 'Sat-0': 1, 'Sun-0': 1, 'Wed-0': ...</td>\n",
       "    </tr>\n",
       "    <tr>\n",
       "      <th>1</th>\n",
       "      <td>kREVIrSBbtqBhIYkTccQUg</td>\n",
       "      <td>{'Mon-13': 1, 'Thu-13': 1, 'Sat-16': 1, 'Wed-1...</td>\n",
       "    </tr>\n",
       "  </tbody>\n",
       "</table>\n",
       "</div>"
      ],
      "text/plain": [
       "              business_id                                               time\n",
       "0  7KPBkxAOEtb3QeIL9PEErg  {'Fri-0': 2, 'Sat-0': 1, 'Sun-0': 1, 'Wed-0': ...\n",
       "1  kREVIrSBbtqBhIYkTccQUg  {'Mon-13': 1, 'Thu-13': 1, 'Sat-16': 1, 'Wed-1..."
      ]
     },
     "execution_count": 18,
     "metadata": {},
     "output_type": "execute_result"
    }
   ],
   "source": [
    "with open(file_checkin) as f:\n",
    "    df_checkin = pd.DataFrame(json.loads(line) for line in f)\n",
    "df_checkin.head(2)"
   ]
  },
  {
   "cell_type": "code",
   "execution_count": 19,
   "metadata": {},
   "outputs": [
    {
     "data": {
      "text/html": [
       "<div>\n",
       "<style scoped>\n",
       "    .dataframe tbody tr th:only-of-type {\n",
       "        vertical-align: middle;\n",
       "    }\n",
       "\n",
       "    .dataframe tbody tr th {\n",
       "        vertical-align: top;\n",
       "    }\n",
       "\n",
       "    .dataframe thead th {\n",
       "        text-align: right;\n",
       "    }\n",
       "</style>\n",
       "<table border=\"1\" class=\"dataframe\">\n",
       "  <thead>\n",
       "    <tr style=\"text-align: right;\">\n",
       "      <th></th>\n",
       "      <th>business_id</th>\n",
       "      <th>cool</th>\n",
       "      <th>date</th>\n",
       "      <th>funny</th>\n",
       "      <th>review_id</th>\n",
       "      <th>stars</th>\n",
       "      <th>text</th>\n",
       "      <th>useful</th>\n",
       "      <th>user_id</th>\n",
       "    </tr>\n",
       "  </thead>\n",
       "  <tbody>\n",
       "    <tr>\n",
       "      <th>0</th>\n",
       "      <td>iCQpiavjjPzJ5_3gPD5Ebg</td>\n",
       "      <td>0</td>\n",
       "      <td>2011-02-25</td>\n",
       "      <td>0</td>\n",
       "      <td>x7mDIiDB3jEiPGPHOmDzyw</td>\n",
       "      <td>2</td>\n",
       "      <td>The pizza was okay. Not the best I've had. I p...</td>\n",
       "      <td>0</td>\n",
       "      <td>msQe1u7Z_XuqjGoqhB0J5g</td>\n",
       "    </tr>\n",
       "    <tr>\n",
       "      <th>1</th>\n",
       "      <td>pomGBqfbxcqPv14c3XH-ZQ</td>\n",
       "      <td>0</td>\n",
       "      <td>2012-11-13</td>\n",
       "      <td>0</td>\n",
       "      <td>dDl8zu1vWPdKGihJrwQbpw</td>\n",
       "      <td>5</td>\n",
       "      <td>I love this place! My fiance And I go here atl...</td>\n",
       "      <td>0</td>\n",
       "      <td>msQe1u7Z_XuqjGoqhB0J5g</td>\n",
       "    </tr>\n",
       "  </tbody>\n",
       "</table>\n",
       "</div>"
      ],
      "text/plain": [
       "              business_id  cool        date  funny               review_id  \\\n",
       "0  iCQpiavjjPzJ5_3gPD5Ebg     0  2011-02-25      0  x7mDIiDB3jEiPGPHOmDzyw   \n",
       "1  pomGBqfbxcqPv14c3XH-ZQ     0  2012-11-13      0  dDl8zu1vWPdKGihJrwQbpw   \n",
       "\n",
       "   stars                                               text  useful  \\\n",
       "0      2  The pizza was okay. Not the best I've had. I p...       0   \n",
       "1      5  I love this place! My fiance And I go here atl...       0   \n",
       "\n",
       "                  user_id  \n",
       "0  msQe1u7Z_XuqjGoqhB0J5g  \n",
       "1  msQe1u7Z_XuqjGoqhB0J5g  "
      ]
     },
     "execution_count": 19,
     "metadata": {},
     "output_type": "execute_result"
    }
   ],
   "source": [
    "with open(file_review) as f:\n",
    "    df_review = pd.DataFrame(json.loads(line) for line in f)\n",
    "df_review.head(2)"
   ]
  },
  {
   "cell_type": "code",
   "execution_count": 20,
   "metadata": {},
   "outputs": [
    {
     "data": {
      "text/html": [
       "<div>\n",
       "<style scoped>\n",
       "    .dataframe tbody tr th:only-of-type {\n",
       "        vertical-align: middle;\n",
       "    }\n",
       "\n",
       "    .dataframe tbody tr th {\n",
       "        vertical-align: top;\n",
       "    }\n",
       "\n",
       "    .dataframe thead th {\n",
       "        text-align: right;\n",
       "    }\n",
       "</style>\n",
       "<table border=\"1\" class=\"dataframe\">\n",
       "  <thead>\n",
       "    <tr style=\"text-align: right;\">\n",
       "      <th></th>\n",
       "      <th>business_id</th>\n",
       "      <th>date</th>\n",
       "      <th>likes</th>\n",
       "      <th>text</th>\n",
       "      <th>user_id</th>\n",
       "    </tr>\n",
       "  </thead>\n",
       "  <tbody>\n",
       "    <tr>\n",
       "      <th>0</th>\n",
       "      <td>tJRDll5yqpZwehenzE2cSg</td>\n",
       "      <td>2012-07-15</td>\n",
       "      <td>0</td>\n",
       "      <td>Get here early enough to have dinner.</td>\n",
       "      <td>zcTZk7OG8ovAmh_fenH21g</td>\n",
       "    </tr>\n",
       "    <tr>\n",
       "      <th>1</th>\n",
       "      <td>2ThtBbeDqFkVi6LugUOcVA</td>\n",
       "      <td>2012-11-25</td>\n",
       "      <td>0</td>\n",
       "      <td>Don't use them! Double charged my boyfriend an...</td>\n",
       "      <td>M5n8mMFoeXjnJEV2gxyGGA</td>\n",
       "    </tr>\n",
       "  </tbody>\n",
       "</table>\n",
       "</div>"
      ],
      "text/plain": [
       "              business_id        date  likes  \\\n",
       "0  tJRDll5yqpZwehenzE2cSg  2012-07-15      0   \n",
       "1  2ThtBbeDqFkVi6LugUOcVA  2012-11-25      0   \n",
       "\n",
       "                                                text                 user_id  \n",
       "0              Get here early enough to have dinner.  zcTZk7OG8ovAmh_fenH21g  \n",
       "1  Don't use them! Double charged my boyfriend an...  M5n8mMFoeXjnJEV2gxyGGA  "
      ]
     },
     "execution_count": 20,
     "metadata": {},
     "output_type": "execute_result"
    }
   ],
   "source": [
    "with open(file_tip) as f:\n",
    "    df_tip = pd.DataFrame(json.loads(line) for line in f)\n",
    "df_tip.head(2)"
   ]
  },
  {
   "cell_type": "code",
   "execution_count": 21,
   "metadata": {},
   "outputs": [],
   "source": [
    "with open(file_user) as f:\n",
    "    df_user = pd.DataFrame(json.loads(line) for line in f)"
   ]
  },
  {
   "cell_type": "markdown",
   "metadata": {},
   "source": [
    "# 2. Filter data by city and category"
   ]
  },
  {
   "cell_type": "code",
   "execution_count": 31,
   "metadata": {
    "scrolled": true
   },
   "outputs": [
    {
     "data": {
      "text/html": [
       "<div>\n",
       "<style scoped>\n",
       "    .dataframe tbody tr th:only-of-type {\n",
       "        vertical-align: middle;\n",
       "    }\n",
       "\n",
       "    .dataframe tbody tr th {\n",
       "        vertical-align: top;\n",
       "    }\n",
       "\n",
       "    .dataframe thead th {\n",
       "        text-align: right;\n",
       "    }\n",
       "</style>\n",
       "<table border=\"1\" class=\"dataframe\">\n",
       "  <thead>\n",
       "    <tr style=\"text-align: right;\">\n",
       "      <th></th>\n",
       "      <th>business_id</th>\n",
       "      <th>name</th>\n",
       "      <th>categories</th>\n",
       "      <th>avg_stars</th>\n",
       "    </tr>\n",
       "  </thead>\n",
       "  <tbody>\n",
       "    <tr>\n",
       "      <th>17</th>\n",
       "      <td>hTzcHtk4-0QJnFUbkKpd5Q</td>\n",
       "      <td>Citi Trends</td>\n",
       "      <td>Shopping, Fashion, Department Stores</td>\n",
       "      <td>4.0</td>\n",
       "    </tr>\n",
       "    <tr>\n",
       "      <th>18</th>\n",
       "      <td>UwIpS9UKsPiKAv1fiEYhqg</td>\n",
       "      <td>Nevada Title And Payday Loans</td>\n",
       "      <td>Financial Services, Check Cashing/Pay-day Loan...</td>\n",
       "      <td>1.0</td>\n",
       "    </tr>\n",
       "    <tr>\n",
       "      <th>19</th>\n",
       "      <td>vJIuDBdu01vCA8y1fwR1OQ</td>\n",
       "      <td>CakesbyToi</td>\n",
       "      <td>American (Traditional), Food, Bakeries, Restau...</td>\n",
       "      <td>1.5</td>\n",
       "    </tr>\n",
       "    <tr>\n",
       "      <th>20</th>\n",
       "      <td>YZCHr68c5aEVHz0bkq9K2g</td>\n",
       "      <td>Park Stone Pavers</td>\n",
       "      <td>Home Services, Masonry/Concrete, Professional ...</td>\n",
       "      <td>5.0</td>\n",
       "    </tr>\n",
       "    <tr>\n",
       "      <th>32</th>\n",
       "      <td>kgffcoxT6BQp-gJ-UQ7Czw</td>\n",
       "      <td>Subway</td>\n",
       "      <td>Fast Food, Restaurants, Sandwiches</td>\n",
       "      <td>2.5</td>\n",
       "    </tr>\n",
       "  </tbody>\n",
       "</table>\n",
       "</div>"
      ],
      "text/plain": [
       "               business_id                           name  \\\n",
       "17  hTzcHtk4-0QJnFUbkKpd5Q                    Citi Trends   \n",
       "18  UwIpS9UKsPiKAv1fiEYhqg  Nevada Title And Payday Loans   \n",
       "19  vJIuDBdu01vCA8y1fwR1OQ                     CakesbyToi   \n",
       "20  YZCHr68c5aEVHz0bkq9K2g              Park Stone Pavers   \n",
       "32  kgffcoxT6BQp-gJ-UQ7Czw                         Subway   \n",
       "\n",
       "                                           categories  avg_stars  \n",
       "17               Shopping, Fashion, Department Stores        4.0  \n",
       "18  Financial Services, Check Cashing/Pay-day Loan...        1.0  \n",
       "19  American (Traditional), Food, Bakeries, Restau...        1.5  \n",
       "20  Home Services, Masonry/Concrete, Professional ...        5.0  \n",
       "32                 Fast Food, Restaurants, Sandwiches        2.5  "
      ]
     },
     "execution_count": 31,
     "metadata": {},
     "output_type": "execute_result"
    }
   ],
   "source": [
    "df_filtered = df_business[df_business['city'] == 'Las Vegas'].copy()\n",
    "features = [u\"business_id\", u\"name\", u\"categories\", u\"stars\"]\n",
    "df_select_business = df_filtered[features].copy()\n",
    "df_select_business.rename(columns = {'stars': 'avg_stars'}, inplace = True)\n",
    "df_select_business.head()"
   ]
  },
  {
   "cell_type": "code",
   "execution_count": 27,
   "metadata": {},
   "outputs": [],
   "source": [
    "df_select_business.to_csv('filtered_business.csv', index = False)\n",
    "# pd.read_csv('filtered_business.csv')"
   ]
  },
  {
   "cell_type": "markdown",
   "metadata": {},
   "source": [
    "# 3. Filter data by date"
   ]
  },
  {
   "cell_type": "code",
   "execution_count": 32,
   "metadata": {},
   "outputs": [],
   "source": [
    "df_left = df_select_business.set_index('business_id')"
   ]
  },
  {
   "cell_type": "code",
   "execution_count": 29,
   "metadata": {},
   "outputs": [],
   "source": [
    "df_right = df_review.set_index('business_id')"
   ]
  },
  {
   "cell_type": "code",
   "execution_count": 33,
   "metadata": {},
   "outputs": [],
   "source": [
    "df_left = df_left.join(df_right)"
   ]
  },
  {
   "cell_type": "code",
   "execution_count": 35,
   "metadata": {},
   "outputs": [],
   "source": [
    "df_left = df_left.reset_index()"
   ]
  },
  {
   "cell_type": "code",
   "execution_count": 38,
   "metadata": {},
   "outputs": [],
   "source": [
    "# got the data of 'Las Vegas' from 2015-01-20 to now\n",
    "df_fianl = df_left[df_left['date']>'2015-01-20']"
   ]
  },
  {
   "cell_type": "code",
   "execution_count": 39,
   "metadata": {
    "scrolled": true
   },
   "outputs": [
    {
     "data": {
      "text/html": [
       "<div>\n",
       "<style scoped>\n",
       "    .dataframe tbody tr th:only-of-type {\n",
       "        vertical-align: middle;\n",
       "    }\n",
       "\n",
       "    .dataframe tbody tr th {\n",
       "        vertical-align: top;\n",
       "    }\n",
       "\n",
       "    .dataframe thead th {\n",
       "        text-align: right;\n",
       "    }\n",
       "</style>\n",
       "<table border=\"1\" class=\"dataframe\">\n",
       "  <thead>\n",
       "    <tr style=\"text-align: right;\">\n",
       "      <th></th>\n",
       "      <th>business_id</th>\n",
       "      <th>name</th>\n",
       "      <th>categories</th>\n",
       "      <th>avg_stars</th>\n",
       "      <th>cool</th>\n",
       "      <th>date</th>\n",
       "      <th>funny</th>\n",
       "      <th>review_id</th>\n",
       "      <th>stars</th>\n",
       "      <th>text</th>\n",
       "      <th>useful</th>\n",
       "      <th>user_id</th>\n",
       "    </tr>\n",
       "  </thead>\n",
       "  <tbody>\n",
       "    <tr>\n",
       "      <th>0</th>\n",
       "      <td>--9e1ONYQuAa-CB_Rrw7Tw</td>\n",
       "      <td>Delmonico Steakhouse</td>\n",
       "      <td>Steakhouses, Restaurants, Cajun/Creole</td>\n",
       "      <td>4.0</td>\n",
       "      <td>0</td>\n",
       "      <td>2014-02-25</td>\n",
       "      <td>0</td>\n",
       "      <td>8eEp26oqTXmuIjVUJpLXHw</td>\n",
       "      <td>3</td>\n",
       "      <td>It was a real up and down evening.\\nApps - BBQ...</td>\n",
       "      <td>0</td>\n",
       "      <td>AdxhlxXSGjRsCQxG6ZjfTw</td>\n",
       "    </tr>\n",
       "    <tr>\n",
       "      <th>1</th>\n",
       "      <td>--9e1ONYQuAa-CB_Rrw7Tw</td>\n",
       "      <td>Delmonico Steakhouse</td>\n",
       "      <td>Steakhouses, Restaurants, Cajun/Creole</td>\n",
       "      <td>4.0</td>\n",
       "      <td>0</td>\n",
       "      <td>2017-02-14</td>\n",
       "      <td>0</td>\n",
       "      <td>VETXTwMw6qxzOVDlXfe6Tg</td>\n",
       "      <td>5</td>\n",
       "      <td>went for dinner tonight. Amazing my husband ha...</td>\n",
       "      <td>0</td>\n",
       "      <td>ymlnR8UeFvB4FZL56tCZsA</td>\n",
       "    </tr>\n",
       "    <tr>\n",
       "      <th>2</th>\n",
       "      <td>--9e1ONYQuAa-CB_Rrw7Tw</td>\n",
       "      <td>Delmonico Steakhouse</td>\n",
       "      <td>Steakhouses, Restaurants, Cajun/Creole</td>\n",
       "      <td>4.0</td>\n",
       "      <td>0</td>\n",
       "      <td>2013-12-19</td>\n",
       "      <td>0</td>\n",
       "      <td>NQt645IJwa5ADM26UQ-jlA</td>\n",
       "      <td>5</td>\n",
       "      <td>we are a repeat customer-- best service - Thx ...</td>\n",
       "      <td>0</td>\n",
       "      <td>TMqFvYbWqs8BnjLsEXZjvQ</td>\n",
       "    </tr>\n",
       "    <tr>\n",
       "      <th>3</th>\n",
       "      <td>--9e1ONYQuAa-CB_Rrw7Tw</td>\n",
       "      <td>Delmonico Steakhouse</td>\n",
       "      <td>Steakhouses, Restaurants, Cajun/Creole</td>\n",
       "      <td>4.0</td>\n",
       "      <td>0</td>\n",
       "      <td>2013-12-02</td>\n",
       "      <td>2</td>\n",
       "      <td>G9TSEZ8BfuSmcf5xy_qAfA</td>\n",
       "      <td>3</td>\n",
       "      <td>Thanksgiving dinner with the family,  ok food ...</td>\n",
       "      <td>5</td>\n",
       "      <td>KmubWHd-t2d3dxLZ13tBAA</td>\n",
       "    </tr>\n",
       "    <tr>\n",
       "      <th>4</th>\n",
       "      <td>--9e1ONYQuAa-CB_Rrw7Tw</td>\n",
       "      <td>Delmonico Steakhouse</td>\n",
       "      <td>Steakhouses, Restaurants, Cajun/Creole</td>\n",
       "      <td>4.0</td>\n",
       "      <td>0</td>\n",
       "      <td>2015-01-01</td>\n",
       "      <td>0</td>\n",
       "      <td>6prMgAjp2LZjuxRvmrFDIQ</td>\n",
       "      <td>4</td>\n",
       "      <td>We were seated promptly for our 5:30 p.m. rese...</td>\n",
       "      <td>0</td>\n",
       "      <td>bMFqD4beGrt_LjNGG_7xng</td>\n",
       "    </tr>\n",
       "  </tbody>\n",
       "</table>\n",
       "</div>"
      ],
      "text/plain": [
       "              business_id                  name  \\\n",
       "0  --9e1ONYQuAa-CB_Rrw7Tw  Delmonico Steakhouse   \n",
       "1  --9e1ONYQuAa-CB_Rrw7Tw  Delmonico Steakhouse   \n",
       "2  --9e1ONYQuAa-CB_Rrw7Tw  Delmonico Steakhouse   \n",
       "3  --9e1ONYQuAa-CB_Rrw7Tw  Delmonico Steakhouse   \n",
       "4  --9e1ONYQuAa-CB_Rrw7Tw  Delmonico Steakhouse   \n",
       "\n",
       "                               categories  avg_stars  cool        date  funny  \\\n",
       "0  Steakhouses, Restaurants, Cajun/Creole        4.0     0  2014-02-25      0   \n",
       "1  Steakhouses, Restaurants, Cajun/Creole        4.0     0  2017-02-14      0   \n",
       "2  Steakhouses, Restaurants, Cajun/Creole        4.0     0  2013-12-19      0   \n",
       "3  Steakhouses, Restaurants, Cajun/Creole        4.0     0  2013-12-02      2   \n",
       "4  Steakhouses, Restaurants, Cajun/Creole        4.0     0  2015-01-01      0   \n",
       "\n",
       "                review_id  stars  \\\n",
       "0  8eEp26oqTXmuIjVUJpLXHw      3   \n",
       "1  VETXTwMw6qxzOVDlXfe6Tg      5   \n",
       "2  NQt645IJwa5ADM26UQ-jlA      5   \n",
       "3  G9TSEZ8BfuSmcf5xy_qAfA      3   \n",
       "4  6prMgAjp2LZjuxRvmrFDIQ      4   \n",
       "\n",
       "                                                text  useful  \\\n",
       "0  It was a real up and down evening.\\nApps - BBQ...       0   \n",
       "1  went for dinner tonight. Amazing my husband ha...       0   \n",
       "2  we are a repeat customer-- best service - Thx ...       0   \n",
       "3  Thanksgiving dinner with the family,  ok food ...       5   \n",
       "4  We were seated promptly for our 5:30 p.m. rese...       0   \n",
       "\n",
       "                  user_id  \n",
       "0  AdxhlxXSGjRsCQxG6ZjfTw  \n",
       "1  ymlnR8UeFvB4FZL56tCZsA  \n",
       "2  TMqFvYbWqs8BnjLsEXZjvQ  \n",
       "3  KmubWHd-t2d3dxLZ13tBAA  \n",
       "4  bMFqD4beGrt_LjNGG_7xng  "
      ]
     },
     "execution_count": 39,
     "metadata": {},
     "output_type": "execute_result"
    }
   ],
   "source": [
    "df_left.head()"
   ]
  },
  {
   "cell_type": "markdown",
   "metadata": {},
   "source": [
    "### Got data about the business in Las Vegas last two year"
   ]
  },
  {
   "cell_type": "markdown",
   "metadata": {},
   "source": [
    "# 4. Some EDA"
   ]
  },
  {
   "cell_type": "code",
   "execution_count": 13,
   "metadata": {},
   "outputs": [],
   "source": [
    "import matplotlib.pyplot as plt\n",
    "% matplotlib inline"
   ]
  },
  {
   "cell_type": "code",
   "execution_count": 43,
   "metadata": {},
   "outputs": [],
   "source": [
    "df_final = df_fianl.copy()"
   ]
  },
  {
   "cell_type": "code",
   "execution_count": 41,
   "metadata": {},
   "outputs": [],
   "source": [
    "df_fianl.to_csv('last_2_year_restaurant_reviews_Las_Vegas.csv')"
   ]
  },
  {
   "cell_type": "code",
   "execution_count": 44,
   "metadata": {
    "scrolled": false
   },
   "outputs": [
    {
     "name": "stdout",
     "output_type": "stream",
     "text": [
      "<class 'pandas.core.frame.DataFrame'>\n",
      "Int64Index: 1136358 entries, 1 to 1825294\n",
      "Data columns (total 12 columns):\n",
      "business_id    1136358 non-null object\n",
      "name           1136358 non-null object\n",
      "categories     1136082 non-null object\n",
      "avg_stars      1136358 non-null float64\n",
      "cool           1136358 non-null int64\n",
      "date           1136358 non-null object\n",
      "funny          1136358 non-null int64\n",
      "review_id      1136358 non-null object\n",
      "stars          1136358 non-null int64\n",
      "text           1136358 non-null object\n",
      "useful         1136358 non-null int64\n",
      "user_id        1136358 non-null object\n",
      "dtypes: float64(1), int64(4), object(7)\n",
      "memory usage: 112.7+ MB\n"
     ]
    }
   ],
   "source": [
    "df_final.info()"
   ]
  },
  {
   "cell_type": "code",
   "execution_count": 38,
   "metadata": {
    "scrolled": true
   },
   "outputs": [
    {
     "data": {
      "image/png": "[encoded data removed]",
      "text/plain": [
       "<Figure size 432x288 with 2 Axes>"
      ]
     },
     "metadata": {},
     "output_type": "display_data"
    }
   ],
   "source": [
    "import seaborn as sns\n",
    "corr = df_final.corr()\n",
    "cmap = sns.diverging_palette(230, 80, as_cmap=True)\n",
    "plt.figure()\n",
    "sns.heatmap(corr, cmap = cmap, xticklabels = corr.columns, yticklabels = corr.columns, cbar_kws={\"shrink\": .5}, annot = True)\n",
    "plt.show()"
   ]
  },
  {
   "cell_type": "markdown",
   "metadata": {},
   "source": [
    "### Feature 'funny' and 'cool' have strong correlation, 'stars' and 'avg_stars' have little strong correlation"
   ]
  },
  {
   "cell_type": "code",
   "execution_count": 21,
   "metadata": {},
   "outputs": [
    {
     "data": {
      "text/plain": [
       "stars\n",
       "1    183275\n",
       "2     78360\n",
       "3     97936\n",
       "4    188460\n",
       "5    588327\n",
       "Name: business_id, dtype: int64"
      ]
     },
     "execution_count": 21,
     "metadata": {},
     "output_type": "execute_result"
    }
   ],
   "source": [
    "df_final.groupby('stars').business_id.count()"
   ]
  },
  {
   "cell_type": "code",
   "execution_count": 35,
   "metadata": {},
   "outputs": [
    {
     "data": {
      "image/png": "[encoded data removed]",
      "text/plain": [
       "<Figure size 720x504 with 1 Axes>"
      ]
     },
     "metadata": {},
     "output_type": "display_data"
    }
   ],
   "source": [
    "plt.figure(figsize = (10,7))\n",
    "(df_final.groupby('stars').business_id.count()).plot.bar(grid = True, zorder = 10)\n",
    "plt.xticks(rotation=0)\n",
    "plt.title('Stars distribution of the business')\n",
    "plt.show()"
   ]
  },
  {
   "cell_type": "code",
   "execution_count": 37,
   "metadata": {},
   "outputs": [
    {
     "data": {
      "image/png": "[encoded data removed]",
      "text/plain": [
       "<Figure size 720x504 with 1 Axes>"
      ]
     },
     "metadata": {},
     "output_type": "display_data"
    }
   ],
   "source": [
    "plt.figure(figsize = (10,7))\n",
    "(df_final.groupby('avg_stars').business_id.count()).plot.bar(grid = True, zorder = 10)\n",
    "plt.xticks(rotation=0)\n",
    "plt.title(\"Users' stars distribution for the business\")\n",
    "plt.show()"
   ]
  },
  {
   "cell_type": "code",
   "execution_count": 93,
   "metadata": {},
   "outputs": [
    {
     "data": {
      "image/png": "[encoded data removed]",
      "text/plain": [
       "<Figure size 720x504 with 1 Axes>"
      ]
     },
     "metadata": {},
     "output_type": "display_data"
    }
   ],
   "source": [
    "plt.figure(figsize = (10,7))\n",
    "df_final.groupby('business_id').apply(lambda x:x['review_id'].nunique()).hist(bins = 400, range = [0, 1000])\n",
    "plt.title('Histogram of the number of review_id for each business_id')\n",
    "plt.show()"
   ]
  },
  {
   "cell_type": "markdown",
   "metadata": {},
   "source": [
    "### Most of the business_id haven't been reviewed for too many times, this is a Power Law Distribution"
   ]
  }
 ],
 "metadata": {
  "kernelspec": {
   "display_name": "Python 3",
   "language": "python",
   "name": "python3"
  },
  "language_info": {
   "codemirror_mode": {
    "name": "ipython",
    "version": 3
   },
   "file_extension": ".py",
   "mimetype": "text/x-python",
   "name": "python",
   "nbconvert_exporter": "python",
   "pygments_lexer": "ipython3",
   "version": "3.6.5"
  }
 },
 "nbformat": 4,
 "nbformat_minor": 2
}
